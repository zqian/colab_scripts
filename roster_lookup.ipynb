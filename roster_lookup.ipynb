{
  "nbformat": 4,
  "nbformat_minor": 0,
  "metadata": {
    "colab": {
      "name": "roster_lookup",
      "provenance": [],
      "collapsed_sections": []
    },
    "kernelspec": {
      "name": "python3",
      "display_name": "Python 3"
    },
    "language_info": {
      "name": "python"
    }
  },
  "cells": [
    {
      "cell_type": "markdown",
      "metadata": {
        "id": "kvdseZ9rEhXS"
      },
      "source": [
        "This is a Notebook to help T&L staff look up student information: \n",
        "\n",
        "*   find EMPID by uniqname\n",
        "*   lookup class roster\n",
        "*   ...\n",
        "\n",
        "https://teamdynamix.umich.edu/TDNext/Apps/31/Tickets/TicketDet?TicketID=204564\n"
      ]
    },
    {
      "cell_type": "code",
      "metadata": {
        "id": "f4mS0hiHG7ZI"
      },
      "source": [
        "# MUST run\n",
        "# install API-util library\n",
        "!pip install git+https://github.com/tl-its-umich-edu/api-utils-python\n",
        "!pip install future-fstrings\n",
        "!pip install pandas"
      ],
      "execution_count": null,
      "outputs": []
    },
    {
      "cell_type": "code",
      "metadata": {
        "id": "xJ-zjhSiEp0B"
      },
      "source": [
        "# MUST run\n",
        "\n",
        "import time\n",
        "import pandas as pd\n",
        "import io\n",
        "import os\n",
        "import json\n",
        "import logging\n",
        "from google.colab import files\n",
        "\n",
        "from umich_api.api_utils import ApiUtil\n",
        "\n",
        "logger = logging.getLogger(__name__)\n",
        "\n",
        "import tempfile\n",
        "\n",
        "# special json configuration for the API calls\n",
        "apis = '''\n",
        "{\n",
        "    \"person\": {\n",
        "        \"token_url\": \"oauth2/token\",\n",
        "            \"limits_calls\": 200,\n",
        "            \"limits_period\": 60\n",
        "    },\n",
        "    \"classroster\": {\n",
        "        \"token_url\": \"oauth2/token\",\n",
        "        \"limits_calls\": 200,\n",
        "        \"limits_period\": 60\n",
        "    }\n",
        "}\n",
        "'''\n",
        "tmp = tempfile.NamedTemporaryFile()\n",
        "\n",
        "# Open the file for writing.\n",
        "with open(tmp.name, 'w') as f:\n",
        "    f.write(apis)\n",
        "\n",
        "# API directory url\n",
        "API_BASE_URL = \"https://apigw.it.umich.edu/um\"\n",
        "\n",
        "from google.colab import userdata\n",
        "API_CLIENT_ID = userdata.get('API_CLIENT_ID')\n",
        "API_CLIENT_SECRET = userdata.get('API_CLIENT_SECRET')\n",
        "# setup the \n",
        "API_UTIL = ApiUtil(API_BASE_URL, API_CLIENT_ID, API_CLIENT_SECRET, tmp.name)"
      ],
      "execution_count": null,
      "outputs": []
    },
    {
      "cell_type": "code",
      "metadata": {
        "id": "QlRqabTkod9K"
      },
      "source": [
        "# Optional: Needed for TASK #1: student uniqname->UMID lookup\n",
        "# upload a csv file with one column of user uniqnames\n",
        "uploaded = files.upload()\n"
      ],
      "execution_count": null,
      "outputs": []
    },
    {
      "cell_type": "code",
      "metadata": {
        "id": "tSlsXUOPIppf"
      },
      "source": [
        "# Optional: Needed for TASK #1 continued \n",
        "# NOTE: replace the file name with the file name mentioned in last cell result\n",
        "input_df = pd.read_csv(io.BytesIO(uploaded['users.csv']))\n",
        "# create empty output dataframe\n",
        "output_df = pd.DataFrame(columns=('uniqname', \"empl_id\"))\n",
        "# looping through users\n",
        "student_count = 0\n",
        "for index, row in input_df.iterrows():\n",
        "  student_count += 1\n",
        "\n",
        "  # due to the limit of API calls (200 calls per minute), will insert a sleep time for a minute for every 190 records\n",
        "  if student_count % 190 == 0:\n",
        "    print(f\"processing {student_count} record. Sleep for one minute and resume. Please wait\")\n",
        "    time.sleep(60)\n",
        "\n",
        "  uniqname = row['uniqname']\n",
        "  request_url = f'/inst/Person/{uniqname}/Identifiers'\n",
        "  print(request_url)\n",
        "  user_info = API_UTIL.api_call(request_url, \"person\")\n",
        "  if user_info.status_code == 200:\n",
        "    user_json = json.loads(user_info.text)\n",
        "    empl_id = user_json['getIDResponse']['Emplid']\n",
        "    print(empl_id)\n",
        "  else:\n",
        "    empl_id=''\n",
        "  user_dict = {\n",
        "    \"uniqname\": uniqname,\n",
        "    \"empl_id\":empl_id\n",
        "  }\n",
        "  output_df = pd.concat([output_df, pd.DataFrame([user_dict])], ignore_index=True)\n",
        "\n",
        "output_df.to_csv(\"uniqname_umid.csv\", index=False)\n",
        "\n",
        "files.download('uniqname_umid.csv')\n"
      ],
      "execution_count": null,
      "outputs": []
    },
    {
      "cell_type": "code",
      "metadata": {
        "id": "HO2wRQxgJI04"
      },
      "source": [
        "# Optional: needed for TASK #2: class roster lookup\n",
        "# uses the ClassRoster API\n",
        "\n",
        "# two params needed\n",
        "# use the SIS ID that in Canvas associated with term, e.g. 2360 for Fall 2021\n",
        "term_id = <REPLACE_BY_TERM_SIS_ID>\n",
        "\n",
        "## class_nbr: the last 5 digit from Canvas section SIS id, e.g. HISTART 394 Section 001  SIS ID: 236032554\n",
        "class_nbr = <REPLACE_BY_SECTION_SIS_ID>\n",
        "\n",
        "# find out teacher's uniqname for this class\n",
        "request_url = f'/aa/ClassRoster/Terms/{term_id}/Classes/{class_nbr}'\n",
        "class_info = API_UTIL.api_call(request_url, \"classroster\")\n",
        "\n",
        "instructor_uniqname =''\n",
        "if class_info.status_code == 200:\n",
        "  class_json = json.loads(class_info.text)\n",
        "  instructor_uniqname = class_json['getSOCSectionListByNbrResponse']['ClassOffered']['Instructor']['Uniqname']\n",
        "else:\n",
        "  print(\"cannot find roster for term {term_id} and class {class_nbr}\")\n",
        "\n",
        "# Optional: needed for TASK #2: class roster lookup\n",
        "# uses the ClassRoster API\n",
        "request_url = f'/aa/ClassRoster/Terms/{term_id}/Classes/{class_nbr}/Members?Uniqname={instructor_uniqname.upper()}'\n",
        "\n",
        "roster_df = pd.DataFrame(columns=('name', 'uniqname','umid','status', 'status_reason', 'credit_hours'))\n",
        "\n",
        "request_url = f'/aa/ClassRoster/Terms/{term_id}/Classes/{class_nbr}/Members?Uniqname={instructor_uniqname.upper()}'\n",
        "roster_info = API_UTIL.api_call(request_url, \"classroster\")\n",
        "print(roster_info.text)\n",
        "if roster_info.status_code == 200:\n",
        "  roster_json = json.loads(roster_info.text)\n",
        "  for student in roster_json['getClassMembersResponse']['ClassData']['ClassStudents']:\n",
        "    # looping students\n",
        "    name = student['StudentName']\n",
        "    uniqname =  student['StudentUniqname']\n",
        "    umid =  student['StudentUMID']\n",
        "    status =  student['EnrollmentStatus']\n",
        "    status_reason =  student['EnrollmentStatusReason']\n",
        "    credit_hours =  student['CreditHours']\n",
        "    roster_dict = {\n",
        "      'name': name,\n",
        "      'uniqname': uniqname,\n",
        "      'umid': umid,\n",
        "      'status': status,\n",
        "      'status_reason': status_reason,\n",
        "      'credit_hours': credit_hours\n",
        "    }\n",
        "    roster_df = pd.concat([roster_df, pd.DataFrame([roster_dict])], ignore_index=True)\n",
        "else:\n",
        "  print(\"cannot find roster \")\n",
        "\n",
        "# output roster info\n",
        "output_file_name = f'roster_{term_id}_{class_nbr}_{instructor_uniqname}.csv'\n",
        "roster_df.to_csv(f'{output_file_name}', index=False)\n",
        "files.download(f'{output_file_name}')"
      ],
      "execution_count": null,
      "outputs": []
    }
  ]
}
