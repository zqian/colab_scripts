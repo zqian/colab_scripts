{
  "cells": [
    {
      "cell_type": "markdown",
      "metadata": {
        "id": "uZeCkesEj9C6"
      },
      "source": [
        "Install modules"
      ]
    },
    {
      "cell_type": "code",
      "execution_count": null,
      "metadata": {
        "colab": {
          "base_uri": "https://localhost:8080/"
        },
        "id": "GxJC0WXECz4M",
        "outputId": "529f027a-db3c-41cc-d52d-87140f062509"
      },
      "outputs": [],
      "source": [
        "!pip install canvasapi\n",
        "from canvasapi import Canvas\n",
        "import os\n",
        "import requests\n",
        "from canvasapi.exceptions import CanvasException"
      ]
    },
    {
      "cell_type": "markdown",
      "metadata": {
        "id": "KaaGrKTVUkna"
      },
      "source": [
        "Get User Token"
      ]
    },
    {
      "cell_type": "code",
      "execution_count": null,
      "metadata": {
        "id": "SmVtfs56oyIy"
      },
      "outputs": [],
      "source": [
        "# get url\n",
        "from google.colab import userdata\n",
        "\n",
        "# get user token\n",
        "token = userdata.get('TOKEN')"
      ]
    },
    {
      "cell_type": "code",
      "execution_count": null,
      "metadata": {
        "cellView": "form",
        "id": "w0htQVvgoOgl"
      },
      "outputs": [],
      "source": [
        "#@title My Form\n",
        "url = \"https://umich.beta.instructure.com\" #@param {type:\"string\"}\n",
        "course_id = 0 #@param {type:\"number\"}\n",
        "source_assignment_id = 0 #@param {type:\"number\"}\n",
        "target_assignment_id = 0 #@param {type:\"number\"}"
      ]
    },
    {
      "cell_type": "markdown",
      "metadata": {
        "id": "-oFqqLI5kIxP"
      },
      "source": [
        "Get Values: Check Course ID, Source ID, and Target ID before executing"
      ]
    },
    {
      "cell_type": "code",
      "execution_count": null,
      "metadata": {
        "colab": {
          "base_uri": "https://localhost:8080/"
        },
        "id": "katuXi8MGRJr",
        "outputId": "a61ea31e-c446-4e56-ea6b-9221d298fa30"
      },
      "outputs": [],
      "source": [
        "#defined parameters\n",
        "print('Check the parameters below before running the next step.')\n",
        "\n",
        "print(f'URL: {url}')\n",
        "print(f'Course ID: {course_id}')\n",
        "print(f'Source Assignment ID: {source_assignment_id}')\n",
        "print(f'Target Assignment ID: {target_assignment_id}')"
      ]
    },
    {
      "cell_type": "code",
      "execution_count": null,
      "metadata": {
        "colab": {
          "base_uri": "https://localhost:8080/"
        },
        "id": "7tu2QwuUpnaf",
        "outputId": "2a6d3d10-1c65-41da-f612-51dcf9e7eb2e"
      },
      "outputs": [],
      "source": [
        "\n",
        "# Initialize a new Canvas object\n",
        "canvas = Canvas(url, token)\n",
        "\n",
        "# Get source course, assignment, and submission\n",
        "source_course = canvas.get_course(course_id)\n",
        "source_assignment = source_course.get_assignment(source_assignment_id)\n",
        "print(source_assignment.name)"
      ]
    },
    {
      "cell_type": "code",
      "execution_count": null,
      "metadata": {
        "id": "qHzp9giuw-Hd"
      },
      "outputs": [],
      "source": [
        "\n",
        "def create_submission_for_user(user_id, file_ids):\n",
        "  \"\"\"\n",
        "    Submits files for a specific user to a target assignment.\n",
        "\n",
        "    Parameters:\n",
        "    user_id (str): The ID of the user for whom the submission is being made.\n",
        "    file_ids (list): A list of file IDs to be submitted.\n",
        "\n",
        "    Returns:\n",
        "    None\n",
        "\n",
        "    Raises:\n",
        "    requests.exceptions.RequestException: If there is an error during the submission process.\n",
        "\n",
        "    Example:\n",
        "    create_submission_for_user('12345', [67890, 12345])\n",
        "    \"\"\"\n",
        "  submission_url = f\"{url}/api/v1/courses/{course_id}/assignments/{target_assignment_id}/submissions\"\n",
        "  headers = {\n",
        "      'Authorization': f'Bearer {token}',\n",
        "      'Content-Type': 'application/json'\n",
        "  }\n",
        "  data = {\n",
        "      'submission': {\n",
        "          'submission_type': 'online_upload',\n",
        "          'file_ids': file_ids\n",
        "      }\n",
        "  }\n",
        "  params = {'as_user_id': user_id}\n",
        "\n",
        "  try:\n",
        "      response = requests.post(submission_url, headers=headers, json=data, params=params)\n",
        "      response.raise_for_status()\n",
        "      print(f'Successfully submitted for student {user_id}:')\n",
        "  except requests.exceptions.RequestException as err:\n",
        "      print(f'Error submitting files for student {user_id}: {err}')"
      ]
    },
    {
      "cell_type": "code",
      "execution_count": null,
      "metadata": {
        "colab": {
          "base_uri": "https://localhost:8080/"
        },
        "id": "9otNZehZpwxF",
        "outputId": "08f05632-47fa-461d-c895-2be4b9cd5a1e"
      },
      "outputs": [],
      "source": [
        "# get all submission for source_assignment\n",
        "submissions = source_assignment.get_submissions()\n",
        "\n",
        "for submission in submissions:\n",
        "  user_id = submission.user_id\n",
        "\n",
        "  # get all attachments for the original submission\n",
        "  file_ids=[]\n",
        "  for attachment in submission.attachments:\n",
        "    file_id = attachment.id\n",
        "    file_ids.append(file_id)\n",
        "  print(f\"user_id = {user_id} file_ids={file_ids}\")\n",
        "\n",
        "  # create submission for user when there is at least one attachment\n",
        "  if len(file_ids) > 0:\n",
        "    create_submission_for_user(user_id, file_ids)\n"
      ]
    }
  ],
  "metadata": {
    "colab": {
      "provenance": []
    },
    "kernelspec": {
      "display_name": "Python 3",
      "name": "python3"
    },
    "language_info": {
      "name": "python"
    }
  },
  "nbformat": 4,
  "nbformat_minor": 0
}
